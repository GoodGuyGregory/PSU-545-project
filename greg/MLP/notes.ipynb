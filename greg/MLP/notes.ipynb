{
 "cells": [
  {
   "cell_type": "code",
   "execution_count": 1,
   "id": "0a2dff3e-dc63-4998-80a3-0d3a12364816",
   "metadata": {},
   "outputs": [],
   "source": [
    "import pandas as pd\n"
   ]
  },
  {
   "cell_type": "code",
   "execution_count": 3,
   "id": "be036428-c192-4270-9043-467972b972bd",
   "metadata": {},
   "outputs": [],
   "source": [
    "trainingData = pd.read_csv('Blood_samples_dataset_balanced_2(f).csv')\n",
    "                           "
   ]
  },
  {
   "cell_type": "code",
   "execution_count": 10,
   "id": "645c1a08-d32c-4bcf-ba26-e1a0b543eab9",
   "metadata": {},
   "outputs": [
    {
     "data": {
      "text/plain": [
       "array(['Healthy', 'Diabetes', 'Thalasse', 'Anemia', 'Thromboc'],\n",
       "      dtype=object)"
      ]
     },
     "execution_count": 10,
     "metadata": {},
     "output_type": "execute_result"
    }
   ],
   "source": [
    "# determine unique values per classification\n",
    "trainingLabels = trainingData.iloc[:,-1].unique()"
   ]
  },
  {
   "cell_type": "code",
   "execution_count": 13,
   "id": "5b887827-7719-4c7b-9c93-641bcf80eb4d",
   "metadata": {},
   "outputs": [],
   "source": [
    "trainingLabels = trainingData.iloc[:,-1].replace({'Healthy':0,'Diabetes':1,'Thalasse':2,'Anemia':3,'Thromboc':4})"
   ]
  },
  {
   "cell_type": "code",
   "execution_count": 14,
   "id": "d1af7d6f-4394-40c1-951e-ed4cb1a6ab8e",
   "metadata": {},
   "outputs": [
    {
     "data": {
      "text/plain": [
       "0    0\n",
       "1    1\n",
       "2    2\n",
       "3    3\n",
       "4    2\n",
       "Name: Disease, dtype: int64"
      ]
     },
     "execution_count": 14,
     "metadata": {},
     "output_type": "execute_result"
    }
   ],
   "source": [
    "trainingLabels.head()"
   ]
  },
  {
   "cell_type": "code",
   "execution_count": 21,
   "id": "1034c0bf-1db9-4d09-91a0-f05df8c017bc",
   "metadata": {},
   "outputs": [],
   "source": [
    "testingData = pd.read_csv('blood_samples_dataset_test.csv')\n",
    "   "
   ]
  },
  {
   "cell_type": "code",
   "execution_count": 23,
   "id": "ce04df90-62ce-4ab5-bacb-3ee13c1d8c0c",
   "metadata": {},
   "outputs": [],
   "source": [
    "testingData = testingData[testingData['Disease'] != 'Heart Di']"
   ]
  },
  {
   "cell_type": "code",
   "execution_count": 28,
   "id": "670e0b4c-b621-48ae-a439-1d0ed7b26f2a",
   "metadata": {},
   "outputs": [
    {
     "data": {
      "text/plain": [
       "array(['Thalasse', 'Diabetes', 'Anemia', 'Thromboc', 'Healthy'],\n",
       "      dtype=object)"
      ]
     },
     "execution_count": 28,
     "metadata": {},
     "output_type": "execute_result"
    }
   ],
   "source": [
    "testingData['Disease'].unique()\n"
   ]
  }
 ],
 "metadata": {
  "kernelspec": {
   "display_name": "Python 3 (ipykernel)",
   "language": "python",
   "name": "python3"
  },
  "language_info": {
   "codemirror_mode": {
    "name": "ipython",
    "version": 3
   },
   "file_extension": ".py",
   "mimetype": "text/x-python",
   "name": "python",
   "nbconvert_exporter": "python",
   "pygments_lexer": "ipython3",
   "version": "3.11.5"
  }
 },
 "nbformat": 4,
 "nbformat_minor": 5
}
