{
 "cells": [
  {
   "cell_type": "code",
   "execution_count": 1,
   "id": "0a2dff3e-dc63-4998-80a3-0d3a12364816",
   "metadata": {},
   "outputs": [],
   "source": [
    "import pandas as pd\n"
   ]
  },
  {
   "cell_type": "code",
   "execution_count": 3,
   "id": "be036428-c192-4270-9043-467972b972bd",
   "metadata": {},
   "outputs": [],
   "source": [
    "trainingData = pd.read_csv('Blood_samples_dataset_balanced_2(f).csv')\n",
    "                           "
   ]
  },
  {
   "cell_type": "code",
   "execution_count": 10,
   "id": "645c1a08-d32c-4bcf-ba26-e1a0b543eab9",
   "metadata": {},
   "outputs": [
    {
     "data": {
      "text/plain": [
       "array(['Healthy', 'Diabetes', 'Thalasse', 'Anemia', 'Thromboc'],\n",
       "      dtype=object)"
      ]
     },
     "execution_count": 10,
     "metadata": {},
     "output_type": "execute_result"
    }
   ],
   "source": [
    "# determine unique values per classification\n",
    "trainingLabels = trainingData.iloc[:,-1].unique()"
   ]
  },
  {
   "cell_type": "code",
   "execution_count": 13,
   "id": "5b887827-7719-4c7b-9c93-641bcf80eb4d",
   "metadata": {},
   "outputs": [],
   "source": [
    "trainingLabels = trainingData.iloc[:,-1].replace({'Healthy':0,'Diabetes':1,'Thalasse':2,'Anemia':3,'Thromboc':4})"
   ]
  },
  {
   "cell_type": "code",
   "execution_count": 14,
   "id": "d1af7d6f-4394-40c1-951e-ed4cb1a6ab8e",
   "metadata": {},
   "outputs": [
    {
     "data": {
      "text/plain": [
       "0    0\n",
       "1    1\n",
       "2    2\n",
       "3    3\n",
       "4    2\n",
       "Name: Disease, dtype: int64"
      ]
     },
     "execution_count": 14,
     "metadata": {},
     "output_type": "execute_result"
    }
   ],
   "source": [
    "trainingLabels.head()"
   ]
  },
  {
   "cell_type": "code",
   "execution_count": 19,
   "id": "1034c0bf-1db9-4d09-91a0-f05df8c017bc",
   "metadata": {},
   "outputs": [],
   "source": [
    "\n"
   ]
  },
  {
   "cell_type": "code",
   "execution_count": 20,
   "id": "ce04df90-62ce-4ab5-bacb-3ee13c1d8c0c",
   "metadata": {},
   "outputs": [
    {
     "ename": "NameError",
     "evalue": "name 'trainingDataFeatures' is not defined",
     "output_type": "error",
     "traceback": [
      "\u001b[1;31m---------------------------------------------------------------------------\u001b[0m",
      "\u001b[1;31mNameError\u001b[0m                                 Traceback (most recent call last)",
      "Cell \u001b[1;32mIn[20], line 1\u001b[0m\n\u001b[1;32m----> 1\u001b[0m trainingDataFeatures\u001b[38;5;241m.\u001b[39mhead()\n",
      "\u001b[1;31mNameError\u001b[0m: name 'trainingDataFeatures' is not defined"
     ]
    }
   ],
   "source": []
  }
 ],
 "metadata": {
  "kernelspec": {
   "display_name": "Python 3 (ipykernel)",
   "language": "python",
   "name": "python3"
  },
  "language_info": {
   "codemirror_mode": {
    "name": "ipython",
    "version": 3
   },
   "file_extension": ".py",
   "mimetype": "text/x-python",
   "name": "python",
   "nbconvert_exporter": "python",
   "pygments_lexer": "ipython3",
   "version": "3.11.5"
  }
 },
 "nbformat": 4,
 "nbformat_minor": 5
}
